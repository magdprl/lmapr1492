{
 "cells": [
  {
   "cell_type": "code",
   "execution_count": 5,
   "id": "32ec8dfd",
   "metadata": {},
   "outputs": [
    {
     "name": "stdout",
     "output_type": "stream",
     "text": [
      "4.52033141958618\n",
      "4.52033141958618\n",
      "4.52033141958618\n",
      "1.7023749514533744\n",
      "1.7023749514533741\n",
      "1.7023749514533744\n",
      "cubic\n",
      "cubic\n",
      "-43m\n"
     ]
    }
   ],
   "source": [
    "from pymatgen.symmetry.analyzer import SpacegroupAnalyzer\n",
    "from pymatgen.ext.matproj import MPRester\n",
    "with MPRester(\"CN7BQQV6jKvoIlVgU18a\") as m:\n",
    "\n",
    "\n",
    "    # Structure for material id\n",
    "    structure = m.get_structure_by_material_id(\"mp-7173\")\n",
    "\n",
    "\n",
    "    #Création d'un objet SpaceGroupAnalyzer\n",
    "    struct = SpacegroupAnalyzer(structure)\n",
    "    space_grp =SpacegroupAnalyzer(structure).get_primitive_standard_structure()\n",
    "    \n",
    "#Lattice du reseau direct\n",
    "reseau_d = space_grp.lattice\n",
    "\n",
    "#Vecteurs de base réseau direct\n",
    "a = reseau_d.a\n",
    "b = reseau_d.b\n",
    "c = reseau_d.c\n",
    "\n",
    "print(a)\n",
    "print(b)\n",
    "print(c)\n",
    "\n",
    "#Maille réseau réciproque\n",
    "reseau_r = reseau_d.reciprocal_lattice\n",
    "\n",
    "#Vecteurs de base réseau réciproque\n",
    "a_r = reseau_r.a\n",
    "b_r = reseau_r.b\n",
    "c_r = reseau_r.c\n",
    "\n",
    "print(a_r)\n",
    "print(b_r)\n",
    "print(c_r)\n",
    "\n",
    "#Type de maille\n",
    "maille = struct.get_lattice_type()\n",
    "\n",
    "print(maille)\n",
    "\n",
    "#Système cristallin\n",
    "syst = struct.get_crystal_system()\n",
    "\n",
    "print(syst)\n",
    "\n",
    "#Groupe ponctuel\n",
    "GP = struct.get_point_group_symbol()\n",
    "\n",
    "print(GP)"
   ]
  },
  {
   "cell_type": "code",
   "execution_count": null,
   "id": "fc7761e3",
   "metadata": {},
   "outputs": [],
   "source": []
  }
 ],
 "metadata": {
  "kernelspec": {
   "display_name": "Python 3",
   "language": "python",
   "name": "python3"
  },
  "language_info": {
   "codemirror_mode": {
    "name": "ipython",
    "version": 3
   },
   "file_extension": ".py",
   "mimetype": "text/x-python",
   "name": "python",
   "nbconvert_exporter": "python",
   "pygments_lexer": "ipython3",
   "version": "3.6.8"
  }
 },
 "nbformat": 4,
 "nbformat_minor": 5
}
