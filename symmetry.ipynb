{
 "cells": [
  {
   "cell_type": "code",
   "execution_count": 42,
   "id": "56a1d0ef",
   "metadata": {},
   "outputs": [
    {
     "name": "stdout",
     "output_type": "stream",
     "text": [
      "[PeriodicSite: Sc (3.1964, 0.0000, 0.0000) [0.5000, 0.0000, 0.0000], PeriodicSite: Sc (3.1964, 3.1964, 3.1964) [0.5000, 0.5000, 0.5000], PeriodicSite: Sc (0.0000, 0.0000, 3.1964) [0.0000, 0.0000, 0.5000], PeriodicSite: Sc (0.0000, 3.1964, 0.0000) [0.0000, 0.5000, 0.0000], PeriodicSite: Sb (0.0000, 0.0000, 0.0000) [0.0000, 0.0000, 0.0000], PeriodicSite: Sb (0.0000, 3.1964, 3.1964) [0.0000, 0.5000, 0.5000], PeriodicSite: Sb (3.1964, 0.0000, 3.1964) [0.5000, 0.0000, 0.5000], PeriodicSite: Sb (3.1964, 3.1964, 0.0000) [0.5000, 0.5000, 0.0000], PeriodicSite: Pt (1.5982, 1.5982, 4.7945) [0.2500, 0.2500, 0.7500], PeriodicSite: Pt (1.5982, 4.7945, 1.5982) [0.2500, 0.7500, 0.2500], PeriodicSite: Pt (4.7945, 1.5982, 1.5982) [0.7500, 0.2500, 0.2500], PeriodicSite: Pt (4.7945, 4.7945, 4.7945) [0.7500, 0.7500, 0.7500]]\n"
     ]
    }
   ],
   "source": [
    "from pymatgen.symmetry.analyzer import SpacegroupAnalyzer\n",
    "from pymatgen.core import Lattice, Structure\n",
    "from jupyter_jsmol.pymatgen import quick_view\n",
    "from pymatgen.ext.matproj import MPRester\n",
    "\n",
    "\n",
    "with MPRester(\"CN7BQQV6jKvoIlVgU18a\") as m:\n",
    "    # Structure for material id\n",
    "    structure = m.get_structure_by_material_id(\"mp-7173\")\n",
    "    \n",
    "    #Création d'un objet SpaceGroupAnalyzer\n",
    "    struct = SpacegroupAnalyzer(structure)\n",
    "    \n",
    "#On utilise la maille conventionnelle\n",
    "maille = SpacegroupAnalyzer(structure).get_conventional_standard_structure()\n",
    "\n",
    "#Ensemble des opérations de symmétrie\n",
    "symmop = SpacegroupAnalyzer(structure).get_symmetry_operations()\n",
    "    \n",
    "#Ensemble des positions des atomes dans la maille\n",
    "positions = maille.sites\n",
    "\n",
    "print(positions)"
   ]
  },
  {
   "cell_type": "code",
   "execution_count": 51,
   "id": "cb05ac93",
   "metadata": {},
   "outputs": [
    {
     "name": "stdout",
     "output_type": "stream",
     "text": [
      "[-1.5  0.5  0.5]\n"
     ]
    },
    {
     "data": {
      "application/vnd.jupyter.widget-view+json": {
       "model_id": "c9e248be5f434c2e95b24c176ff794d8",
       "version_major": 2,
       "version_minor": 0
      },
      "text/plain": [
       "JsmolView(layout=Layout(align_self='stretch', height='400px'))"
      ]
     },
     "metadata": {},
     "output_type": "display_data"
    }
   ],
   "source": [
    "#premier élément de symmétrie\n",
    "#atome Sc (3.1964, 3.1964, 3.1964)\n",
    "\n",
    "elem_1 = symmop[3].operate([0.5000, 0.5000, 0.5000])\n",
    "print(elem_1)\n",
    "\n",
    "#affichage avec Jsmol\n",
    "view = quick_view(maille)\n",
    "display(view)\n",
    "view.script('draw SYMOP 4 {atomno=2}')"
   ]
  },
  {
   "cell_type": "code",
   "execution_count": 50,
   "id": "79235f9c",
   "metadata": {},
   "outputs": [
    {
     "name": "stdout",
     "output_type": "stream",
     "text": [
      "[ 0.  -1.   0.5]\n"
     ]
    },
    {
     "data": {
      "application/vnd.jupyter.widget-view+json": {
       "model_id": "0343286fa9e34a7ab69650183fcf25a8",
       "version_major": 2,
       "version_minor": 0
      },
      "text/plain": [
       "JsmolView(layout=Layout(align_self='stretch', height='400px'))"
      ]
     },
     "metadata": {},
     "output_type": "display_data"
    }
   ],
   "source": [
    "#deuxième élément de symmétrie\n",
    "#atome Sb (0.0000, 3.1964, 3.1964)\n",
    "\n",
    "elem_2 = symmop[5].operate([0.0000, 0.5000, 0.5000])\n",
    "print(elem_2)\n",
    "\n",
    "#affichage avec Jsmol\n",
    "view = quick_view(maille)\n",
    "display(view)\n",
    "view.script('draw SYMOP 6 {atomno=6}')"
   ]
  },
  {
   "cell_type": "code",
   "execution_count": 52,
   "id": "5b3817d6",
   "metadata": {},
   "outputs": [
    {
     "name": "stdout",
     "output_type": "stream",
     "text": [
      "[ 0.25  0.25 -1.25]\n"
     ]
    },
    {
     "data": {
      "application/vnd.jupyter.widget-view+json": {
       "model_id": "5f9b8e61c14b49eba1071e1cf6017267",
       "version_major": 2,
       "version_minor": 0
      },
      "text/plain": [
       "JsmolView(layout=Layout(align_self='stretch', height='400px'))"
      ]
     },
     "metadata": {},
     "output_type": "display_data"
    }
   ],
   "source": [
    "#troisième élément de symmétrie\n",
    "#atome Pt (1.5982, 1.5982, 4.7945) \n",
    "\n",
    "elem_3 = symmop[9].operate([0.2500, 0.2500, 0.7500])\n",
    "print(elem_3)\n",
    "\n",
    "#affichage avec Jsmol\n",
    "view = quick_view(maille, conventional=True)\n",
    "display(view)\n",
    "view.script('draw SYMOP 10 {atomno=9}')"
   ]
  },
  {
   "cell_type": "code",
   "execution_count": null,
   "id": "9dbac741",
   "metadata": {},
   "outputs": [],
   "source": []
  }
 ],
 "metadata": {
  "kernelspec": {
   "display_name": "Python 3",
   "language": "python",
   "name": "python3"
  },
  "language_info": {
   "codemirror_mode": {
    "name": "ipython",
    "version": 3
   },
   "file_extension": ".py",
   "mimetype": "text/x-python",
   "name": "python",
   "nbconvert_exporter": "python",
   "pygments_lexer": "ipython3",
   "version": "3.6.8"
  }
 },
 "nbformat": 4,
 "nbformat_minor": 5
}
