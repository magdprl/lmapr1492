{
 "cells": [
  {
   "cell_type": "code",
   "execution_count": 1,
   "id": "56a1d0ef",
   "metadata": {},
   "outputs": [
    {
     "name": "stdout",
     "output_type": "stream",
     "text": [
      "Positions des atomes dans la maille:  \n",
      " [PeriodicSite: Sc (3.1964, 0.0000, 0.0000) [0.5000, 0.0000, 0.0000], PeriodicSite: Sc (3.1964, 3.1964, 3.1964) [0.5000, 0.5000, 0.5000], PeriodicSite: Sc (0.0000, 0.0000, 3.1964) [0.0000, 0.0000, 0.5000], PeriodicSite: Sc (0.0000, 3.1964, 0.0000) [0.0000, 0.5000, 0.0000], PeriodicSite: Sb (0.0000, 0.0000, 0.0000) [0.0000, 0.0000, 0.0000], PeriodicSite: Sb (0.0000, 3.1964, 3.1964) [0.0000, 0.5000, 0.5000], PeriodicSite: Sb (3.1964, 0.0000, 3.1964) [0.5000, 0.0000, 0.5000], PeriodicSite: Sb (3.1964, 3.1964, 0.0000) [0.5000, 0.5000, 0.0000], PeriodicSite: Pt (1.5982, 1.5982, 4.7945) [0.2500, 0.2500, 0.7500], PeriodicSite: Pt (1.5982, 4.7945, 1.5982) [0.2500, 0.7500, 0.2500], PeriodicSite: Pt (4.7945, 1.5982, 1.5982) [0.7500, 0.2500, 0.2500], PeriodicSite: Pt (4.7945, 4.7945, 4.7945) [0.7500, 0.7500, 0.7500]] \n",
      "\n",
      "Premier élément de symétrie  \n",
      " Rot:\n",
      "[[ 0.  1.  0.]\n",
      " [-1.  0.  0.]\n",
      " [ 0.  0. -1.]]\n",
      "tau\n",
      "[0. 0. 0.] \n",
      "\n",
      "Deuxième élément de symétrie  \n",
      " Rot:\n",
      "[[ 0. -1.  0.]\n",
      " [-1.  0.  0.]\n",
      " [ 0.  0.  1.]]\n",
      "tau\n",
      "[0. 0. 0.] \n",
      "\n",
      "Troisième élément de symétrie  \n",
      " Rot:\n",
      "[[ 0.  0.  1.]\n",
      " [-1.  0.  0.]\n",
      " [ 0. -1.  0.]]\n",
      "tau\n",
      "[0. 0. 0.] \n",
      "\n"
     ]
    }
   ],
   "source": [
    "from pymatgen.symmetry.analyzer import SpacegroupAnalyzer\n",
    "from jupyter_jsmol.pymatgen import quick_view\n",
    "from pymatgen.ext.matproj import MPRester\n",
    "\n",
    "\n",
    "with MPRester(\"CN7BQQV6jKvoIlVgU18a\") as m:\n",
    "    # Structure for material id\n",
    "    structure = m.get_structure_by_material_id(\"mp-7173\", conventional_unit_cell=True)\n",
    "    \n",
    "    #Création d'un objet SpaceGroupAnalyzer\n",
    "    struct = SpacegroupAnalyzer(structure)\n",
    "    \n",
    "\n",
    "#Ensemble des opérations de symétrie\n",
    "symmop = SpacegroupAnalyzer(structure).get_symmetry_operations()\n",
    "    \n",
    "#Ensemble des positions des atomes dans la maille\n",
    "positions = structure.sites\n",
    "\n",
    "\n",
    "\n",
    "print(\"Positions des atomes dans la maille: \", \"\\n\", positions, \"\\n\")\n",
    "print(\"Premier élément de symétrie \", \"\\n\",symmop[1], \"\\n\")\n",
    "print(\"Deuxième élément de symétrie \", \"\\n\",symmop[7], \"\\n\")\n",
    "print(\"Troisième élément de symétrie \" , \"\\n\",symmop[10], \"\\n\")"
   ]
  },
  {
   "cell_type": "code",
   "execution_count": 4,
   "id": "cb05ac93",
   "metadata": {
    "scrolled": true
   },
   "outputs": [
    {
     "name": "stdout",
     "output_type": "stream",
     "text": [
      "L'équation de symétrie est:  y, -x, -z\n",
      "Nouvelle position de l'atome:  [ 0.5 -0.5 -0.5]\n"
     ]
    },
    {
     "data": {
      "application/vnd.jupyter.widget-view+json": {
       "model_id": "17232dbc174a4387a6b0130420b60cb7",
       "version_major": 2,
       "version_minor": 0
      },
      "text/plain": [
       "JsmolView(layout=Layout(align_self='stretch', height='400px'))"
      ]
     },
     "metadata": {},
     "output_type": "display_data"
    }
   ],
   "source": [
    "#premier élément de symétrie\n",
    "#atome Sc en (0.5000, 0.5000, 0.5000)\n",
    "\n",
    "elem_1 = symmop[1].operate([0.5000, 0.5000, 0.5000])\n",
    "print(\"L'équation de symétrie est: \", symmop[1].as_xyz_string())\n",
    "print(\"Nouvelle position de l'atome: \", elem_1)\n",
    "\n",
    "#affichage avec Jsmol\n",
    "view = quick_view(structure,supercell=[1,1,1])\n",
    "display(view)\n",
    "view.script('draw SYMOP 5 {atomno=2}; select atomno=2; color red')\n"
   ]
  },
  {
   "cell_type": "code",
   "execution_count": 5,
   "id": "79235f9c",
   "metadata": {},
   "outputs": [
    {
     "name": "stdout",
     "output_type": "stream",
     "text": [
      "L'équation de symétrie est:  -y, -x, z\n",
      "Nouvelle position de l'atome:  [-0.75 -0.25  0.25]\n"
     ]
    },
    {
     "data": {
      "application/vnd.jupyter.widget-view+json": {
       "model_id": "7c26ec2ceb5d46f78502c42824831969",
       "version_major": 2,
       "version_minor": 0
      },
      "text/plain": [
       "JsmolView(layout=Layout(align_self='stretch', height='400px'))"
      ]
     },
     "metadata": {},
     "output_type": "display_data"
    }
   ],
   "source": [
    "#deuxième élément de symétrie\n",
    "#atome Pt en (0.2500, 0.7500, 0.2500)\n",
    "\n",
    "elem_2 = symmop[7].operate([0.2500, 0.7500, 0.2500])\n",
    "print(\"L'équation de symétrie est: \", symmop[7].as_xyz_string())\n",
    "print(\"Nouvelle position de l'atome: \", elem_2)\n",
    "\n",
    "#affichage avec Jsmol\n",
    "view = quick_view(structure,supercell=[1,1,1])\n",
    "display(view)\n",
    "view.script('draw SYMOP 8 {atomno=6}; select atomno=6; color red')"
   ]
  },
  {
   "cell_type": "code",
   "execution_count": 6,
   "id": "5b3817d6",
   "metadata": {},
   "outputs": [
    {
     "name": "stdout",
     "output_type": "stream",
     "text": [
      "L'équation de symétrie est:  z, -x, -y\n",
      "Nouvelle position de l'atome:  [ 0.75 -0.75 -0.75]\n"
     ]
    },
    {
     "data": {
      "application/vnd.jupyter.widget-view+json": {
       "model_id": "8453569ad60142cf97d1fdc89a11cafe",
       "version_major": 2,
       "version_minor": 0
      },
      "text/plain": [
       "JsmolView(layout=Layout(align_self='stretch', height='400px'))"
      ]
     },
     "metadata": {},
     "output_type": "display_data"
    }
   ],
   "source": [
    "#troisième élément de symétrie\n",
    "#atome Pt en (0.7500, 0.7500, 0.7500) \n",
    "\n",
    "elem_3 = symmop[10].operate([0.7500, 0.7500, 0.7500])\n",
    "print(\"L'équation de symétrie est: \", symmop[10].as_xyz_string())\n",
    "print(\"Nouvelle position de l'atome: \", elem_3)\n",
    "\n",
    "#affichage avec Jsmol\n",
    "view = quick_view(structure, supercell=[1,1,1])\n",
    "display(view)\n",
    "view.script('draw SYMOP 11 {atomno=9}; select atomno=9; color red')"
   ]
  },
  {
   "cell_type": "code",
   "execution_count": null,
   "id": "9dbac741",
   "metadata": {},
   "outputs": [],
   "source": []
  },
  {
   "cell_type": "code",
   "execution_count": null,
   "id": "cf46efe0",
   "metadata": {},
   "outputs": [],
   "source": []
  }
 ],
 "metadata": {
  "kernelspec": {
   "display_name": "Python 3",
   "language": "python",
   "name": "python3"
  },
  "language_info": {
   "codemirror_mode": {
    "name": "ipython",
    "version": 3
   },
   "file_extension": ".py",
   "mimetype": "text/x-python",
   "name": "python",
   "nbconvert_exporter": "python",
   "pygments_lexer": "ipython3",
   "version": "3.6.8"
  }
 },
 "nbformat": 4,
 "nbformat_minor": 5
}
