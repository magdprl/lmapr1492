{
 "cells": [
  {
   "cell_type": "code",
   "execution_count": 5,
   "id": "88a344cf",
   "metadata": {},
   "outputs": [
    {
     "name": "stdout",
     "output_type": "stream",
     "text": [
      "Full Formula (Sc1 Sb1 Pt1)\n",
      "Reduced Formula: ScSbPt\n",
      "abc   :   4.520331   4.520331   4.520331\n",
      "angles:  60.000000  60.000000  60.000000\n",
      "Sites (3)\n",
      "  #  SP       a     b     c    magmom\n",
      "---  ----  ----  ----  ----  --------\n",
      "  0  Sc    0.5   0.5   0.5          0\n",
      "  1  Sb    0     0     0            0\n",
      "  2  Pt    0.25  0.25  0.25        -0\n"
     ]
    }
   ],
   "source": [
    "from pymatgen.ext.matproj import MPRester\n",
    "with MPRester(\"CN7BQQV6jKvoIlVgU18a\") as m:\n",
    "\n",
    "    # Structure for material id\n",
    "    structure = m.get_structure_by_material_id(\"mp-7173\")\n",
    "\n",
    "    # Dos for material id\n",
    "    dos = m.get_dos_by_material_id(\"mp-7173\")\n",
    "\n",
    "    # Bandstructure for material id\n",
    "    bandstructure = m.get_bandstructure_by_material_id(\"mp-7173\")\n",
    "    \n",
    "    print(structure)"
   ]
  },
  {
   "cell_type": "code",
   "execution_count": null,
   "id": "d2b77b8a",
   "metadata": {},
   "outputs": [],
   "source": []
  }
 ],
 "metadata": {
  "kernelspec": {
   "display_name": "Python 3",
   "language": "python",
   "name": "python3"
  },
  "language_info": {
   "codemirror_mode": {
    "name": "ipython",
    "version": 3
   },
   "file_extension": ".py",
   "mimetype": "text/x-python",
   "name": "python",
   "nbconvert_exporter": "python",
   "pygments_lexer": "ipython3",
   "version": "3.6.8"
  }
 },
 "nbformat": 4,
 "nbformat_minor": 5
}
